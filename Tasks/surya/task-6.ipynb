{
 "cells": [
  {
   "cell_type": "code",
   "execution_count": null,
   "id": "746e648b",
   "metadata": {},
   "outputs": [],
   "source": [
    "import tensorflow as tf \n",
    "from tensorflow.keras.applications.resnet50 import ResNet50\n",
    "from tensorflow.keras.applications.vgg16 import VGG16\n",
    "from keras.applications.inception_v3 import InceptionV3\n",
    "from tensorflow.keras.applications import EfficientNetB0\n",
    "from tensorflow.keras.layers import GlobalAveragePooling2D, Dense\n",
    "from tensorflow.keras.layers import BatchNormalization, Dropout\n",
    "from tensorflow.keras.models import Model"
   ]
  },
  {
   "cell_type": "code",
   "execution_count": null,
   "id": "8d8d85ae",
   "metadata": {},
   "outputs": [],
   "source": [
    "from tensorflow.keras.datasets import cifar10"
   ]
  },
  {
   "cell_type": "code",
   "execution_count": null,
   "id": "0790ea82",
   "metadata": {},
   "outputs": [],
   "source": [
    "labels =['airplane','automobile','bird','cat','deer','dog','frog','horse','ship','truck']\n",
    "(x_train,y_train),(x_test,y_test)=cifar10.load_data()"
   ]
  },
  {
   "cell_type": "code",
   "execution_count": null,
   "id": "8e3590b0",
   "metadata": {},
   "outputs": [],
   "source": [
    "x_train=x_train/255.0\n",
    "x_test=x_test/255.0\n",
    "x_train.shape"
   ]
  },
  {
   "cell_type": "markdown",
   "id": "f2769923",
   "metadata": {},
   "source": [
    "# ResNet50"
   ]
  },
  {
   "cell_type": "code",
   "execution_count": null,
   "id": "8959fdf2",
   "metadata": {},
   "outputs": [],
   "source": [
    "res = ResNet50(weights ='imagenet', include_top = False, \n",
    "               input_shape =(32, 32, 3)) "
   ]
  },
  {
   "cell_type": "code",
   "execution_count": null,
   "id": "885b9c8c",
   "metadata": {},
   "outputs": [],
   "source": [
    "\n",
    "x = res.output\n",
    "\n",
    "x = GlobalAveragePooling2D()(x)\n",
    "\n",
    "x = BatchNormalization()(x)\n",
    "\n",
    "x = Dropout(0.5)(x) \n",
    "x = Dense(512, activation ='relu')(x)\n",
    "x = BatchNormalization()(x)\n",
    "x = Dropout(0.5)(x)\n",
    "\n",
    "\n",
    "x = Dense(101, activation ='softmax')(x)\n",
    "\n",
    "model = Model(res.input, x)\n",
    "\n",
    "model.compile(optimizer ='Adam', \n",
    "              loss ='categorical_crossentropy', \n",
    "              metrics =['accuracy']) \n",
    "model.summary() \n",
    "model.fit(x_train,y_train, epochs = 5, validation_data = (x_test,y_test))"
   ]
  },
  {
   "cell_type": "code",
   "execution_count": null,
   "id": "c3e9c719",
   "metadata": {},
   "outputs": [],
   "source": [
    "model.evaluate(x_test, y_test)"
   ]
  },
  {
   "cell_type": "markdown",
   "id": "61e9773c",
   "metadata": {},
   "source": [
    "# VGG16"
   ]
  },
  {
   "cell_type": "code",
   "execution_count": null,
   "id": "d5ff7b2e",
   "metadata": {},
   "outputs": [],
   "source": [
    "vgg16 = VGG16(weights=\"imagenet\", include_top=False, input_shape=(32,32, 3))"
   ]
  },
  {
   "cell_type": "code",
   "execution_count": null,
   "id": "7b8743c6",
   "metadata": {},
   "outputs": [],
   "source": [
    "x = vgg16.output\n",
    "\n",
    "x = GlobalAveragePooling2D()(x)\n",
    "\n",
    "x = BatchNormalization()(x)\n",
    "\n",
    "x = Dropout(0.5)(x) \n",
    "x = Dense(512, activation ='relu')(x)\n",
    "x = BatchNormalization()(x)\n",
    "x = Dropout(0.5)(x)\n",
    "\n",
    "\n",
    "x = Dense(10, activation ='softmax')(x)\n",
    "\n",
    "model = Model(vgg16.input, x)\n",
    "model.compile(optimizer ='Adam', \n",
    "              loss =\"sparse_categorical_crossentropy\", \n",
    "              metrics =[\"sparse_categorical_accuracy\"]) \n",
    "model.summary() \n",
    "model.fit(x_train,y_train, epochs = 5, validation_data = (x_test,y_test))\n",
    "model.evaluate(x_test, y_test)"
   ]
  },
  {
   "cell_type": "markdown",
   "id": "88c8c9d1",
   "metadata": {},
   "source": [
    "# Inceptionv3"
   ]
  },
  {
   "cell_type": "code",
   "execution_count": null,
   "id": "ba20031b",
   "metadata": {},
   "outputs": [],
   "source": [
    "inceptionv3 = InceptionV3(include_top=False, weights='imagenet', input_shape=(32, 32, 3))"
   ]
  },
  {
   "cell_type": "code",
   "execution_count": null,
   "id": "3ad84ebb",
   "metadata": {},
   "outputs": [],
   "source": [
    "x = inceptionv3.output\n",
    "\n",
    "x = GlobalAveragePooling2D()(x)\n",
    "\n",
    "x = BatchNormalization()(x)\n",
    "\n",
    "x = Dropout(0.5)(x) \n",
    "x = Dense(512, activation ='relu')(x)\n",
    "x = BatchNormalization()(x)\n",
    "x = Dropout(0.5)(x)\n",
    "\n",
    "\n",
    "x = Dense(10, activation ='softmax')(x)\n",
    "\n",
    "model = Model(inceptionv3.input, x)\n",
    "model.compile(optimizer ='Adam', \n",
    "              loss =\"sparse_categorical_crossentropy\", \n",
    "              metrics =[\"sparse_categorical_accuracy\"]) \n",
    "model.summary() \n",
    "model.fit(x_train,y_train, epochs = 5, validation_data = (x_test,y_test))\n",
    "model.evaluate(x_test, y_test)"
   ]
  },
  {
   "cell_type": "markdown",
   "id": "8512c262",
   "metadata": {},
   "source": [
    "# EfficientNet"
   ]
  },
  {
   "cell_type": "code",
   "execution_count": null,
   "id": "809d41dc",
   "metadata": {},
   "outputs": [],
   "source": [
    "enet = EfficientNetB0(weights ='imagenet', include_top = False, \n",
    "               input_shape =(32,32, 3)) "
   ]
  },
  {
   "cell_type": "code",
   "execution_count": null,
   "id": "c9fbaa60",
   "metadata": {},
   "outputs": [],
   "source": [
    "x = enet.output\n",
    "\n",
    "x = GlobalAveragePooling2D()(x)\n",
    "\n",
    "x = BatchNormalization()(x)\n",
    "\n",
    "x = Dropout(0.5)(x) \n",
    "x = Dense(512, activation ='relu')(x)\n",
    "x = BatchNormalization()(x)\n",
    "x = Dropout(0.5)(x)\n",
    "\n",
    "\n",
    "x = Dense(10, activation ='softmax')(x)\n",
    "\n",
    "model = Model(enet.input, x)\n",
    "model.compile(optimizer ='Adam', \n",
    "              loss =\"sparse_categorical_crossentropy\", \n",
    "              metrics =[\"sparse_categorical_accuracy\"]) \n",
    "model.summary() \n",
    "model.fit(x_train,y_train, epochs = 5, validation_data = (x_test,y_test))\n",
    "model.evaluate(x_test, y_test)"
   ]
  }
 ],
 "metadata": {
  "kernelspec": {
   "display_name": "Python 3 (ipykernel)",
   "language": "python",
   "name": "python3"
  },
  "language_info": {
   "codemirror_mode": {
    "name": "ipython",
    "version": 3
   },
   "file_extension": ".py",
   "mimetype": "text/x-python",
   "name": "python",
   "nbconvert_exporter": "python",
   "pygments_lexer": "ipython3",
   "version": "3.8.10"
  }
 },
 "nbformat": 4,
 "nbformat_minor": 5
}
